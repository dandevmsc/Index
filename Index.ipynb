{
 "cells": [
  {
   "cell_type": "code",
   "execution_count": null,
   "metadata": {},
   "outputs": [],
   "source": [
    "dictofweights={'S&P':18.2,'Ftse100':15.2,'AEX':17.8,\"Dow jones\":1.1,'Ftse mib':1.4}\n",
    "yearly=pd.DataFrame(index=[datetime.datetime.now().year])\n",
    "monthly=pd.DataFrame(index=[pd.to_datetime(str(datetime.datetime.today().year)+'-'+str(datetime.datetime.today().month)+'-01',errors='coerce')+BMonthEnd(1)])\n",
    "\n",
    "def index (df,dictofweights,typeofdate):\n",
    "\n",
    "    \n",
    "    x = { df.column : df.index[df[df.column]>0][0] for df.column in df}\n",
    "    weights=[]\n",
    "    for k in dictofweights.values():\n",
    "        weights.append(k/sum(dictofweights.values()))\n",
    "    \n",
    "    Z=pd.DataFrame(pd.Series(weights),columns=['weighting'])\n",
    "    Z.index= pd.MultiIndex.from_tuples(x.items())\n",
    "    Z=Z.sort_index(level=1)\n",
    "\n",
    "    P=Z.unstack()\n",
    "    P = P.T.xs('weighting', axis=0, drop_level=True)\n",
    "    P=P.append(typeofdate)\n",
    "    \n",
    "    P=P.T\n",
    "    weightendofperiod=P.sum(axis=0).cumsum()\n",
    "    sumweights=P.T.sum(axis=1)\n",
    "    P=P.ffill(axis=1)\n",
    "    \n",
    "    P=P.T.div(weightendofperiod,axis=0)\n",
    "    P=P.fillna(0)\n",
    "    df1=df\n",
    "    df3=pd.DataFrame()\n",
    "    \n",
    "    for  column in df1:\n",
    "        firstdate=(np.where(df1[column].notnull())[0][0])\n",
    "        df3=df3.append(df1[column]/df1[column].iloc[firstdate])\n",
    "    df3=df3.T\n",
    "    K=0\n",
    "    lengthp=len(P)\n",
    "    df2=pd.DataFrame(columns=P.columns)\n",
    "    while K < lengthp-1:\n",
    "        df2=df2.append((df3.loc[P.index[K]:P.index[K+1]]*P.iloc[K]))\n",
    "        K+=1\n",
    "    df2 = df2[~df2.index.duplicated(keep='last')]\n",
    "    df4=df2.sum(axis=1)\n",
    "    df4=pd.DataFrame(df4,columns=['index'])\n",
    "    \n",
    "    return df4\n",
    "dfindex=index(indexprices,dictofweights,monthly)\n"
   ]
  }
 ],
 "metadata": {
  "kernelspec": {
   "display_name": "Python 3",
   "language": "python",
   "name": "python3"
  },
  "language_info": {
   "codemirror_mode": {
    "name": "ipython",
    "version": 3
   },
   "file_extension": ".py",
   "mimetype": "text/x-python",
   "name": "python",
   "nbconvert_exporter": "python",
   "pygments_lexer": "ipython3",
   "version": "3.6.4"
  }
 },
 "nbformat": 4,
 "nbformat_minor": 2
}
